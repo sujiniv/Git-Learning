{
  "nbformat": 4,
  "nbformat_minor": 0,
  "metadata": {
    "colab": {
      "provenance": [],
      "include_colab_link": true
    },
    "kernelspec": {
      "name": "python3",
      "display_name": "Python 3"
    },
    "language_info": {
      "name": "python"
    }
  },
  "cells": [
    {
      "cell_type": "markdown",
      "metadata": {
        "id": "view-in-github",
        "colab_type": "text"
      },
      "source": [
        "<a href=\"https://colab.research.google.com/github/sujiniv/Git-Learning/blob/main/WEEK1_ASSIGNMENT.ipynb\" target=\"_parent\"><img src=\"https://colab.research.google.com/assets/colab-badge.svg\" alt=\"Open In Colab\"/></a>"
      ]
    },
    {
      "cell_type": "markdown",
      "source": [
        "**Task 1: **Write a Python program that takes two integer numbers as input from the user\n",
        "\n",
        "```\n",
        "Expected Output:\n",
        "Enter the first number: 10\n",
        "Enter the second number: 20\n",
        "your first number is  10 your second number is  20\n",
        "```"
      ],
      "metadata": {
        "id": "I14q7dwrD0f9"
      }
    },
    {
      "cell_type": "markdown",
      "source": [
        "**Task 2:**Write a Python program to check if a number is positive, negative, or zero.\n",
        "\n",
        "\n",
        "\n",
        "```\n",
        "Expected Output:\n",
        "enter your number10\n",
        "Positive\n",
        "\n",
        "\n",
        "```"
      ],
      "metadata": {
        "id": "WL9Wz3dhD4GO"
      }
    },
    {
      "cell_type": "markdown",
      "source": [
        "**Task 3:** Write a Python program to determine if a given year is a leap year. If the year is divisible by 4, check if it's also not divisible by 100 or divisible by 400. Print \"Leap year\" if it meets the conditions; otherwise, print \"Not a leap year.\"\n",
        "\n",
        "```\n",
        "Expected Output:\n",
        "Enter a year: 1997\n",
        "Not a leap year\n",
        "```"
      ],
      "metadata": {
        "id": "6zHD3i89D7V0"
      }
    },
    {
      "cell_type": "markdown",
      "source": [
        "**Task 4:** Write a Python program that simulates an ATM. The program should ask for the withdrawal amount and check if it's a multiple of 20  \n",
        "If not,inform the user that only multiples of 20 are allowed.\n",
        "\n",
        "\n",
        "\n",
        "```\n",
        "Expected Output:\n",
        "Enter the withdrawal amount: 40\n",
        "Withdraw 40 dollars.\n",
        "```"
      ],
      "metadata": {
        "id": "_aKWyWPSD-I3"
      }
    },
    {
      "cell_type": "markdown",
      "source": [
        "**Task 5:** Write a Python program that calculates the ticket price for a movie. If a person is a student, they get a 20% discount. If the person is a senior, they get a 15% discount. If not, they pay the full price.\n",
        "\n",
        "\n",
        "\n",
        "```\n",
        "Expected Output:\n",
        "Enter your age: 34\n",
        "Are you a student (yes/no)? no\n",
        "Your ticket price is $10.00.\n",
        "```"
      ],
      "metadata": {
        "id": "wn0gkqdfEBR6"
      }
    },
    {
      "cell_type": "code",
      "execution_count": null,
      "metadata": {
        "id": "8is4CTESDxOc",
        "colab": {
          "base_uri": "https://localhost:8080/"
        },
        "outputId": "9bd06358-c3ae-4338-f63a-ded894dd2628"
      },
      "outputs": [
        {
          "output_type": "stream",
          "name": "stdout",
          "text": [
            "Enter the first number: 10\n",
            "Enter the Second number: 20\n",
            "Your First Number is 10 Your Second Number is 20\n"
          ]
        }
      ],
      "source": [
        "#*Task 1: *Write a Python program that takes two integer numbers as input from the user\n",
        "\n",
        "num1 = int(input(\"Enter the first number: \"))\n",
        "num2 = int(input(\"Enter the Second number: \"))\n",
        "print(f'Your First Number is {num1} Your Second Number is {num2}')"
      ]
    },
    {
      "cell_type": "code",
      "source": [
        "#Task 2:Write a Python program to check if a number is positive, negative, or zero.\n",
        "\n",
        "num = int(input(\"Enter Your Number: \"))\n",
        "if num > 0:\n",
        "  print(\"Positive\")\n",
        "elif num < 0:\n",
        "    print(\"Negative\")\n",
        "else:\n",
        "    print(\"Zero\")"
      ],
      "metadata": {
        "colab": {
          "base_uri": "https://localhost:8080/"
        },
        "id": "sob_oQOE3Mm3",
        "outputId": "c695520e-c5d9-490c-e798-f3976fa89d1c"
      },
      "execution_count": null,
      "outputs": [
        {
          "output_type": "stream",
          "name": "stdout",
          "text": [
            "Enter Your Number: 1\n",
            "Positive\n"
          ]
        }
      ]
    },
    {
      "cell_type": "code",
      "source": [
        "# Task 3: Write a Python program to determine if a given year is a leap year. If the year is divisible by 4, check if it's also not divisible by 100 or divisible by 400.\n",
        "# Print \"Leap year\" if it meets the conditions; otherwise, print \"Not a leap year.\"\n",
        "\n",
        "Year = int(input())\n",
        "if Year%4 == 0:\n",
        "  if Year%400 == 0 or Year%100 != 0:\n",
        "    print(\"Leap Year\")\n",
        "  else: print('')\n",
        "else: print(\"Not a Leap Year\")\n",
        "\n"
      ],
      "metadata": {
        "colab": {
          "base_uri": "https://localhost:8080/"
        },
        "id": "g0YS7Dh54bwh",
        "outputId": "be5f72ae-ba2b-46b2-e71e-55d59a34cb54"
      },
      "execution_count": null,
      "outputs": [
        {
          "output_type": "stream",
          "name": "stdout",
          "text": [
            "2024\n",
            "Leap Year\n"
          ]
        }
      ]
    },
    {
      "cell_type": "code",
      "source": [
        "# Task 4: Write a Python program that simulates an ATM. The program should ask for the withdrawal amount and check if it's a multiple of 20\n",
        "# If not,inform the user that only multiples of 20 are allowed.\n",
        "\n",
        "Withdrawl_Amount = int(input(\"Enter Withdrawl Amount: \"))\n",
        "\n",
        "if Withdrawl_Amount%20 == 0:\n",
        "  print(f'Withdraw your amount: {Withdrawl_Amount}')\n",
        "else: print(\"Only Multiples of 20 are allowed\")"
      ],
      "metadata": {
        "colab": {
          "base_uri": "https://localhost:8080/"
        },
        "id": "sEtMWzv19DAu",
        "outputId": "d397db38-7bdd-444b-8545-11f912c4fd5d"
      },
      "execution_count": null,
      "outputs": [
        {
          "output_type": "stream",
          "name": "stdout",
          "text": [
            "Enter Withdrawl Amount: 90\n",
            "Only Multiples of 20 are allowed\n"
          ]
        }
      ]
    },
    {
      "cell_type": "code",
      "source": [
        "# Write a Python program that calculates the ticket price for a movie. If a person is a student, they get a 20% discount.\n",
        "# If the person is a senior, they get a 15% discount. If not, they pay the full price.\n",
        "\n",
        "Age = int(input(\"Enter your age: \"))\n",
        "Student = input(\"Are You a Student (Yes/No)? \").lower()\n",
        "\n",
        "if Age > 5 and Age <= 60:\n",
        "  if Student == 'yes':\n",
        "    print(\"Your Ticket Price is: $32\")\n",
        "  elif Student == 'no':\n",
        "    print(\"Your Ticket Price is $40\")\n",
        "elif Age > 60:\n",
        "  print(\"Your Ticket Price is $34\")\n",
        "else: print('Invalid Input')"
      ],
      "metadata": {
        "colab": {
          "base_uri": "https://localhost:8080/"
        },
        "id": "HgSsDKj-qLQa",
        "outputId": "e04f29b7-5f5c-4412-c4d2-8734f8d486e9"
      },
      "execution_count": null,
      "outputs": [
        {
          "output_type": "stream",
          "name": "stdout",
          "text": [
            "Enter your age: 2\n",
            "Are You a Student (Yes/No)? no\n",
            "Invalid Input\n"
          ]
        }
      ]
    },
    {
      "cell_type": "code",
      "source": [
        "from re import I\n",
        "num = [1,2,3,4,5,6]\n",
        "\n",
        "for i in num:\n",
        "  if i == 5:\n",
        "    break\n",
        "  if i == 3:\n",
        "    continue\n",
        "  print(i)"
      ],
      "metadata": {
        "colab": {
          "base_uri": "https://localhost:8080/"
        },
        "id": "FS5ZcOOkRJgT",
        "outputId": "a5ee962e-4d91-4e00-fa45-32b66ec2d9ca"
      },
      "execution_count": null,
      "outputs": [
        {
          "output_type": "stream",
          "name": "stdout",
          "text": [
            "1\n",
            "2\n",
            "4\n"
          ]
        }
      ]
    },
    {
      "cell_type": "code",
      "source": [
        "i = 1\n",
        "\n",
        "while i <= 10:\n",
        "  print(i)\n",
        "  i += 2"
      ],
      "metadata": {
        "colab": {
          "base_uri": "https://localhost:8080/"
        },
        "id": "f2SVuDiVe-7s",
        "outputId": "f5fcff6d-04cb-456f-87cc-b1da7367b101"
      },
      "execution_count": null,
      "outputs": [
        {
          "output_type": "stream",
          "name": "stdout",
          "text": [
            "1\n",
            "3\n",
            "5\n",
            "7\n",
            "9\n"
          ]
        }
      ]
    },
    {
      "cell_type": "code",
      "source": [
        "i = 0\n",
        "while i < 10:\n",
        "  i += 1\n",
        "  if i == 5:\n",
        "    continue\n",
        "  if i == 7:\n",
        "    break\n",
        "  print(i)\n"
      ],
      "metadata": {
        "colab": {
          "base_uri": "https://localhost:8080/"
        },
        "id": "TRU2CHbtfm2A",
        "outputId": "f3066b02-c176-4a65-eca1-2399c8a39d8d"
      },
      "execution_count": null,
      "outputs": [
        {
          "output_type": "stream",
          "name": "stdout",
          "text": [
            "1\n",
            "2\n",
            "3\n",
            "4\n",
            "6\n"
          ]
        }
      ]
    },
    {
      "cell_type": "code",
      "source": [
        "i = 1\n",
        "while i <= 3:\n",
        "  j = 1\n",
        "  while j <= 2:\n",
        "    print(i,j)\n",
        "    j += 1\n",
        "  i += 1"
      ],
      "metadata": {
        "colab": {
          "base_uri": "https://localhost:8080/"
        },
        "id": "7Q3ygZzJVes3",
        "outputId": "33df73a0-2d21-49db-e620-4640ba9018f2"
      },
      "execution_count": null,
      "outputs": [
        {
          "output_type": "stream",
          "name": "stdout",
          "text": [
            "1 1\n",
            "1 2\n",
            "2 1\n",
            "2 2\n",
            "3 1\n",
            "3 2\n"
          ]
        }
      ]
    },
    {
      "cell_type": "code",
      "source": [
        "string = \"Hello World!\"\n",
        "result = string[:3]\n",
        "print(result)"
      ],
      "metadata": {
        "colab": {
          "base_uri": "https://localhost:8080/"
        },
        "id": "FVDdHSQqdVeq",
        "outputId": "7570ad81-69d6-4198-dace-5999ac8ae478"
      },
      "execution_count": null,
      "outputs": [
        {
          "output_type": "stream",
          "name": "stdout",
          "text": [
            "Hel\n"
          ]
        }
      ]
    },
    {
      "cell_type": "code",
      "source": [
        "string1 = \"Hello\"\n",
        "string2 = \"World\"\n",
        "result = string1 + \" \" + string2\n",
        "print(result)"
      ],
      "metadata": {
        "colab": {
          "base_uri": "https://localhost:8080/"
        },
        "id": "dkS0CmcufL44",
        "outputId": "f0b2eede-21e5-4527-ed61-4fcb21a629b1"
      },
      "execution_count": null,
      "outputs": [
        {
          "output_type": "stream",
          "name": "stdout",
          "text": [
            "Hello World\n"
          ]
        }
      ]
    },
    {
      "cell_type": "code",
      "source": [
        "list_of_string = [\"Hello\", \"World\", \"!\"]\n",
        "# separator = \"*\"   ----- You can initialise and use separator also or you can write a separator directly in the join statement\n",
        "result = \"*\".join(list_of_string)\n",
        "print(result)"
      ],
      "metadata": {
        "colab": {
          "base_uri": "https://localhost:8080/"
        },
        "id": "jT2V_G-nfmeN",
        "outputId": "fc6f7875-4962-4c6b-e539-d0e12c4864dd"
      },
      "execution_count": null,
      "outputs": [
        {
          "output_type": "stream",
          "name": "stdout",
          "text": [
            "Hello*World*!\n"
          ]
        }
      ]
    },
    {
      "cell_type": "code",
      "source": [
        "string1 = \"Hello\"\n",
        "string2 = \"World\"\n",
        "result = f\"{string1} {string2}\"\n",
        "print(result)"
      ],
      "metadata": {
        "colab": {
          "base_uri": "https://localhost:8080/"
        },
        "id": "6OCevsfahCZJ",
        "outputId": "b31aad73-ae37-4647-ea50-d2a8df010e73"
      },
      "execution_count": null,
      "outputs": [
        {
          "output_type": "stream",
          "name": "stdout",
          "text": [
            "Hello World\n"
          ]
        }
      ]
    },
    {
      "cell_type": "code",
      "source": [
        "sentence = input()\n",
        "word = sentence.split()\n",
        "print(word)"
      ],
      "metadata": {
        "colab": {
          "base_uri": "https://localhost:8080/"
        },
        "id": "U9YQwTZshm41",
        "outputId": "e6f38f1d-d74c-4681-ee5b-aeef2fc902c1"
      },
      "execution_count": null,
      "outputs": [
        {
          "output_type": "stream",
          "name": "stdout",
          "text": [
            "hi im sujini\n",
            "['hi', 'im', 'sujini']\n"
          ]
        }
      ]
    },
    {
      "cell_type": "code",
      "source": [
        "names_list = ['Arjun', 'Anya', 'Shefali', 'priya', 'Rahul', 'Rhea']\n",
        "name = input()\n",
        "\n",
        "def search_and_add_name(names_list, name):\n",
        "  if name not in names_list:\n",
        "    print(f'Current list is: {names_list}')\n",
        "    names_list.append(name)\n",
        "    print(f'Adding your name to list {names_list}')\n",
        "  else: print('Name Already exists')\n",
        "\n",
        "search_and_add_name(names_list, name)\n",
        "#print(f'Adding your name to list {names_list}')"
      ],
      "metadata": {
        "colab": {
          "base_uri": "https://localhost:8080/"
        },
        "id": "mnQl_L2V4nXa",
        "outputId": "316830c6-4da8-4b63-add4-d9fc4ba58e29"
      },
      "execution_count": null,
      "outputs": [
        {
          "output_type": "stream",
          "name": "stdout",
          "text": [
            "Ramya\n",
            "Current list is: ['Arjun', 'Anya', 'Shefali', 'priya', 'Rahul', 'Rhea']\n",
            "Adding your name to list ['Arjun', 'Anya', 'Shefali', 'priya', 'Rahul', 'Rhea', 'Ramya']\n"
          ]
        }
      ]
    },
    {
      "cell_type": "code",
      "source": [
        "\n",
        "int1 = int(input())\n",
        "int2 = int(input())\n",
        "\n",
        "def display_options():\n",
        "  print(\"1.Add\")\n",
        "  print(\"2.Subtract\")\n",
        "  print(\"3.Multiply\")\n",
        "  print(\"4.Divide\")\n",
        "  print(\"5.Power\")\n",
        "\n",
        "def get_user_choice():\n",
        "  choice = int(input())\n",
        "  return choice\n",
        "\n",
        "display_options()\n",
        "user_choice = get_user_choice()\n",
        "\n",
        "if user_choice == 1:\n",
        "  calculation = int1 + int2\n",
        "  print(f'Answer is:{calculation}')\n",
        "elif user_choice == 2:\n",
        "  calculation = int1 - int2\n",
        "  print(f'Answer is:{calculation}')\n",
        "elif user_choice == 3:\n",
        "  calculation = int1 * int2\n",
        "  print(f'Answer is:{calculation}')\n",
        "elif user_choice == 4:\n",
        "  calculation = int1%int2\n",
        "  print(f'Answer is:{calculation}')\n",
        "elif user_choice == 5:\n",
        "  calculation = int1**int2\n",
        "  print(f'Answer is:{calculation}')\n",
        "\n",
        "else: print('Invalid input, Please choose any option from 1 to 5')"
      ],
      "metadata": {
        "colab": {
          "base_uri": "https://localhost:8080/",
          "height": 262
        },
        "id": "ZQeNfyXVB7gq",
        "outputId": "d1cee87f-f82f-4f66-eacc-f0c37b6576a7"
      },
      "execution_count": null,
      "outputs": [
        {
          "name": "stdout",
          "output_type": "stream",
          "text": [
            "\n"
          ]
        },
        {
          "output_type": "error",
          "ename": "ValueError",
          "evalue": "ignored",
          "traceback": [
            "\u001b[0;31m---------------------------------------------------------------------------\u001b[0m",
            "\u001b[0;31mValueError\u001b[0m                                Traceback (most recent call last)",
            "\u001b[0;32m<ipython-input-23-184e3abe6907>\u001b[0m in \u001b[0;36m<cell line: 1>\u001b[0;34m()\u001b[0m\n\u001b[0;32m----> 1\u001b[0;31m \u001b[0mint1\u001b[0m \u001b[0;34m=\u001b[0m \u001b[0mint\u001b[0m\u001b[0;34m(\u001b[0m\u001b[0minput\u001b[0m\u001b[0;34m(\u001b[0m\u001b[0;34m)\u001b[0m\u001b[0;34m)\u001b[0m\u001b[0;34m\u001b[0m\u001b[0;34m\u001b[0m\u001b[0m\n\u001b[0m\u001b[1;32m      2\u001b[0m \u001b[0mint2\u001b[0m \u001b[0;34m=\u001b[0m \u001b[0mint\u001b[0m\u001b[0;34m(\u001b[0m\u001b[0minput\u001b[0m\u001b[0;34m(\u001b[0m\u001b[0;34m)\u001b[0m\u001b[0;34m)\u001b[0m\u001b[0;34m\u001b[0m\u001b[0;34m\u001b[0m\u001b[0m\n\u001b[1;32m      3\u001b[0m \u001b[0;34m\u001b[0m\u001b[0m\n\u001b[1;32m      4\u001b[0m \u001b[0;32mdef\u001b[0m \u001b[0mdisplay_options\u001b[0m\u001b[0;34m(\u001b[0m\u001b[0;34m)\u001b[0m\u001b[0;34m:\u001b[0m\u001b[0;34m\u001b[0m\u001b[0;34m\u001b[0m\u001b[0m\n\u001b[1;32m      5\u001b[0m   \u001b[0mprint\u001b[0m\u001b[0;34m(\u001b[0m\u001b[0;34m\"1.Add\"\u001b[0m\u001b[0;34m)\u001b[0m\u001b[0;34m\u001b[0m\u001b[0;34m\u001b[0m\u001b[0m\n",
            "\u001b[0;31mValueError\u001b[0m: invalid literal for int() with base 10: ''"
          ]
        }
      ]
    },
    {
      "cell_type": "code",
      "source": [
        "\n",
        "for i in range(1, 11):  # Loop for rows 1 to 10\n",
        "    for j in range(1, 6):  # Loop for columns 1 to 5\n",
        "        print(i * j, end=\" \")\n",
        "    print()"
      ],
      "metadata": {
        "colab": {
          "base_uri": "https://localhost:8080/"
        },
        "id": "XyrltikLDkdp",
        "outputId": "23171ff1-50f2-427f-f1c2-04adf936ebc9"
      },
      "execution_count": null,
      "outputs": [
        {
          "output_type": "stream",
          "name": "stdout",
          "text": [
            "1 2 3 4 5 \n",
            "2 4 6 8 10 \n",
            "3 6 9 12 15 \n",
            "4 8 12 16 20 \n",
            "5 10 15 20 25 \n",
            "6 12 18 24 30 \n",
            "7 14 21 28 35 \n",
            "8 16 24 32 40 \n",
            "9 18 27 36 45 \n",
            "10 20 30 40 50 \n"
          ]
        }
      ]
    },
    {
      "cell_type": "code",
      "source": [
        "sum = 0\n",
        "\n",
        "for i in range(1, 51):\n",
        "  if i%2==0:\n",
        "    sum = sum + i\n",
        "print(f'The sum of even numbers from 1 to 50 is: {sum}')"
      ],
      "metadata": {
        "colab": {
          "base_uri": "https://localhost:8080/"
        },
        "id": "N1VzlyNvEG6j",
        "outputId": "a7e70ba7-4411-4bd5-8a05-958d2e8cbd25"
      },
      "execution_count": null,
      "outputs": [
        {
          "output_type": "stream",
          "name": "stdout",
          "text": [
            "The sum of even numbers from 1 to 50 is: 650\n"
          ]
        }
      ]
    },
    {
      "cell_type": "code",
      "source": [
        "fact = int(input())\n",
        "\n",
        "for i in range(1, fact):\n",
        "  fact = fact * i\n",
        "print(f'The factorial of 5 is: {fact}')"
      ],
      "metadata": {
        "colab": {
          "base_uri": "https://localhost:8080/"
        },
        "id": "L8PfYdFQEKOP",
        "outputId": "ed79f53f-d4b4-4112-e5be-74697201340e"
      },
      "execution_count": null,
      "outputs": [
        {
          "output_type": "stream",
          "name": "stdout",
          "text": [
            "6\n",
            "The factorial of 5 is: 720\n"
          ]
        }
      ]
    },
    {
      "cell_type": "code",
      "source": [
        "x = int(input())\n",
        "\n",
        "for i in range(1,6):\n",
        "  for j in range(i):\n",
        "    print('*', end=\" \")\n",
        "  print()"
      ],
      "metadata": {
        "colab": {
          "base_uri": "https://localhost:8080/"
        },
        "id": "XpNiIubtEX10",
        "outputId": "790c0ff9-98a1-4d9a-92f9-7c0ed7bfa51c"
      },
      "execution_count": null,
      "outputs": [
        {
          "output_type": "stream",
          "name": "stdout",
          "text": [
            "6\n",
            "* \n",
            "* * \n",
            "* * * \n",
            "* * * * \n",
            "* * * * * \n"
          ]
        }
      ]
    },
    {
      "cell_type": "code",
      "source": [
        "for num in range(2, 101):\n",
        "  for i in range(2,num):\n",
        "    if num%i == 0:\n",
        "      break\n",
        "  else:\n",
        "    print(num, end=' ')"
      ],
      "metadata": {
        "colab": {
          "base_uri": "https://localhost:8080/"
        },
        "id": "sgFsmAHvEo_c",
        "outputId": "c9bd606c-b478-4e7b-a300-c2a3e7a896ab"
      },
      "execution_count": null,
      "outputs": [
        {
          "output_type": "stream",
          "name": "stdout",
          "text": [
            "2 3 5 7 11 13 17 19 23 29 31 37 41 43 47 53 59 61 67 71 73 79 83 89 97 "
          ]
        }
      ]
    },
    {
      "cell_type": "code",
      "source": [
        "vowels = 'aeiouAEIOU'\n",
        "input_string = 'hello world'\n",
        "vowel_count = 0\n",
        "\n",
        "for i in input_string:\n",
        "  if i in vowels:\n",
        "    vowel_count = vowel_count + 1\n",
        "print(f'The number of vowels in the string is: {vowel_count}')"
      ],
      "metadata": {
        "colab": {
          "base_uri": "https://localhost:8080/"
        },
        "id": "fQYIAGhsEv_c",
        "outputId": "480f1a9e-7df7-4aab-d881-24fa7932aa6a"
      },
      "execution_count": null,
      "outputs": [
        {
          "output_type": "stream",
          "name": "stdout",
          "text": [
            "The number of vowels in the string is: 3\n"
          ]
        }
      ]
    },
    {
      "cell_type": "code",
      "source": [
        "import random as r\n",
        "\n",
        "def number_guessing_game():\n",
        "  chances=5\n",
        "  return\n",
        "  r_num = r.randint(1,10)\n",
        "\n",
        "for attempt in range(1, 5):\n",
        "  guess = int(input())\n",
        "  if guess != r_num:\n",
        "    print(\"Incorrect Guess!!\")\n",
        "  else: print(\"You Win\")\n",
        "\n",
        "chances_left = attempt - (attempt+1)\n",
        "if chances_left > 0:\n",
        "  print(f'You got {chances_left} chances')\n",
        "else: print(f'The ans is {r_num}')\n",
        "\n",
        "number_guessing_game()"
      ],
      "metadata": {
        "colab": {
          "base_uri": "https://localhost:8080/"
        },
        "id": "BGOQWy80E27L",
        "outputId": "1f873ff1-bfc0-454d-9afc-b681a4bec372"
      },
      "execution_count": null,
      "outputs": [
        {
          "output_type": "stream",
          "name": "stdout",
          "text": [
            "3\n",
            "Incorrect Guess!!\n",
            "The ans is 8\n"
          ]
        }
      ]
    }
  ]
}